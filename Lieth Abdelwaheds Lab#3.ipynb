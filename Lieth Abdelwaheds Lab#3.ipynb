{
 "cells": [
  {
   "cell_type": "markdown",
   "metadata": {
    "colab_type": "text",
    "id": "u1YDPNtbdHDj"
   },
   "source": [
    "###  #  Python Data Types\n",
    "\n",
    "## PETE 2061 Lab 3 Workbook \n",
    "\n",
    "## THIS IS DUE BY 10:20 AM TODAY\n",
    "\n",
    "<a id='top'></a>"
   ]
  },
  {
   "cell_type": "markdown",
   "metadata": {},
   "source": [
    "Step 1. Paste the url (or link) to the pete2061 folder in your github account in the \"marked down\" cell below. <br>\n",
    "**1 point will be deducted if this isn't provided**"
   ]
  },
  {
   "cell_type": "markdown",
   "metadata": {},
   "source": []
  },
  {
   "cell_type": "markdown",
   "metadata": {
    "colab_type": "text",
    "id": "krWd44XodHDp"
   },
   "source": [
    "<a id='variables'></a>\n",
    "## Decline Curve Analysis\n",
    "Well A flows with an initial flow rate ($q_i$) of 5,000 bopd (barrels of oil per day), and has a continuous initial decline rate ($D_i$) of 9% per year. The well declines exponentially. <br><br>"
   ]
  },
  {
   "cell_type": "markdown",
   "metadata": {},
   "source": [
    "Step 2. Store the given values in appropriately named variables. (This is standard programming practice as discussed in class. You neevere want to use numbers directly in code without first storing them in variables.)<br>\n",
    "**5 points will be deducted if values are used directly in code instead of first storing them in variables, and using the variables in code. Feel free to ask questions in the lab if this is not clear yet!!!** <br><br>\n",
    "Step 3. Import numpy (I won't mention this in future lab workbooks, because you will need to import any required libraries before you can use the functions within those libraries).<br>\n",
    "** 2 points will be deducted if numpy isn't imported. Your code will also not work.**<br><br>\n",
    "Step 4. Create a one-dimensional (1D) time array called timeVec and let it store numbers from 0 through 20 in increments of 1. <br>\n",
    "**3 points will be deducted if this is not attempted. 2 points will be deducted if it doesn't work.**<br><br>\n",
    "Step 5. Write a one-line vectorized Python code that computes the rates corresponding to the times stored in timeVec, and store these rates in an array called \"rateExp\". rateExp will be the same length as timeVec.<br>\n",
    "**4 points will be deducted if this is not attempted. 2 points will be deducted if it doesn't work.**<br><br>\n",
    "Step 6. Import matplotlib.pyplot as plt, and use plt.plot() and plt.show() to plot and display a graph of rateExp versus timeVec, using a green solid line and square markers.<br>\n",
    "**4 points will be deducted if this is not attempted. 2 points will be deducted if it doesn't work.**<br><br>"
   ]
  },
  {
   "cell_type": "markdown",
   "metadata": {},
   "source": [
    "https://github.com/lieth887/lieth887.git"
   ]
  },
  {
   "cell_type": "code",
   "execution_count": 3,
   "metadata": {},
   "outputs": [
    {
     "name": "stdout",
     "output_type": "stream",
     "text": [
      "[ 0  1  2  3  4  5  6  7  8  9 10 11 12 13 14 15 16 17 18 19 20]\n",
      "[5000.         4569.65592636 4176.35105706 3816.89747168 3488.38163036\n",
      " 3188.14075811 2913.74126187 2662.95900503 2433.7612798  2224.29033111\n",
      " 2032.8482987  1857.88345511 1697.97762822 1551.83470633 1418.2701325\n",
      " 1296.20130323 1184.63879341 1082.67833658  989.49349542  904.32896309\n",
      "  826.49444111]\n"
     ]
    },
    {
     "data": {
      "image/png": "[encoded data removed]",
      "text/plain": [
       "<Figure size 432x288 with 1 Axes>"
      ]
     },
     "metadata": {
      "needs_background": "light"
     },
     "output_type": "display_data"
    }
   ],
   "source": [
    "import math\n",
    "import numpy as np\n",
    "\n",
    "q_i=5000.0\n",
    "D_i=9/100\n",
    "timeVec=np.arange(0,21,1)\n",
    "print(timeVec)\n",
    "\n",
    "rateExp=q_i*np.exp(-D_i*timeVec)\n",
    "print(rateExp)\n",
    "\n",
    "import matplotlib.pyplot as plt\n",
    "%matplotlib inline\n",
    "plt.plot(timeVec,rateExp)\n",
    "plt.show()\n"
   ]
  },
  {
   "cell_type": "markdown",
   "metadata": {},
   "source": [
    "Step 7. Print the data type of the timeVec array, using the numpy function \"dtype\"<br>\n",
    "**2 points will be deducted if this is not attempted or doesn't work.**<br><br>\n",
    "Step 8. Create an array of the same shape with timeVec, call it \"rateExp2\", and initialize it to zeros.<br>\n",
    "**3 points will be deducted if this is not attempted. 2 points will be deducted if it doesn't work.**<br><br>\n",
    "Step 9. Instead of the vectorized computation of rateExp, use a for loop to compute the rate, and store this in an array called \"rateExp2\" <br>\n",
    "**5 points will be deducted if this is not attempted. 2 points will be deducted if it doesn't work.**<br><br>\n",
    "Step 10. Plot rateExp2 versus timeVec<br>\n",
    "**3 points will be deducted if this is not attempted. 2 points will be deducted if it doesn't work.**<br><br>"
   ]
  },
  {
   "cell_type": "code",
   "execution_count": 4,
   "metadata": {},
   "outputs": [
    {
     "name": "stdout",
     "output_type": "stream",
     "text": [
      "int64\n"
     ]
    },
    {
     "data": {
      "image/png": "[encoded data removed]",
      "text/plain": [
       "<Figure size 432x288 with 1 Axes>"
      ]
     },
     "metadata": {
      "needs_background": "light"
     },
     "output_type": "display_data"
    }
   ],
   "source": [
    "print(timeVec.dtype)\n",
    "rateExp2=np.zeros(timeVec.shape)\n",
    "\n",
    "for time in timeVec:\n",
    "    rateExp2[time]=q_i*np.exp(-D_i*time)\n",
    "    \n",
    "%matplotlib inline\n",
    "plt.plot(rateExp2,timeVec)\n",
    "plt.show()\n",
    "\n",
    "\n"
   ]
  },
  {
   "cell_type": "markdown",
   "metadata": {},
   "source": [
    "## Extra Credit\n",
    "For extra credit of up to 15% of the total value of this lab. Solve the following additional steps"
   ]
  },
  {
   "cell_type": "markdown",
   "metadata": {},
   "source": [
    "Step 11. Repeat steps 2 through 10, but this time, let time be in days. So, timeVec will go from 0 to 20*365. Note that instead of D_i, you will need to use D_i_inDays = D_i/365.<br>\n",
    "Step 12. Time both the vectorized calculation and the for loop, and print out the time spent in both. Which is faster?<br>\n",
    "Step 13. Using a b-exponent of 0.4 (b=0.4), compute rateHyp, which is the flow rate for a hyperbolic decline. Plot this against time. Feel free to perform the calculation using t in years or in days, but make sure to use \"D_i\" in %/yr if t is in years, and \"D_i_inDays\" in %/day if t is in days.<br>\n",
    "Step 14. Compute rateHarm, which is the flow rate for a harmonic decline. Plot this against time. Feel free to perform the calculation using t in years or in days, but make sure to use \"D_i\" in %/yr if t is in years, and \"D_i_inDays\" in %/day if t is in days.<br>\n",
    "Step 15. Compute and plot the exponential, hyperbolic and harmonic cumulative oil production (versus timeVec) all on the same graph, and show the legend. <br>"
   ]
  },
  {
   "cell_type": "code",
   "execution_count": null,
   "metadata": {},
   "outputs": [],
   "source": []
  }
 ],
 "metadata": {
  "colab": {
   "collapsed_sections": [
    "sYQs3O-6dHFb",
    "8sIJ4A57dHFk",
    "_73RPOcBdHFn",
    "h9s2tfPcdHFo",
    "zt4YHVYPdHGR"
   ],
   "include_colab_link": true,
   "name": "Copy of intro-python-colab.ipynb",
   "provenance": [],
   "version": "0.3.2"
  },
  "kernelspec": {
   "display_name": "Python 3",
   "language": "python",
   "name": "python3"
  },
  "language_info": {
   "codemirror_mode": {
    "name": "ipython",
    "version": 3
   },
   "file_extension": ".py",
   "mimetype": "text/x-python",
   "name": "python",
   "nbconvert_exporter": "python",
   "pygments_lexer": "ipython3",
   "version": "3.8.8"
  }
 },
 "nbformat": 4,
 "nbformat_minor": 1
}
